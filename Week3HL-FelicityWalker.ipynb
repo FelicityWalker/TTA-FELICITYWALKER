{
 "cells": [
  {
   "cell_type": "code",
   "execution_count": 2,
   "source": [
    "#Task1\r\n",
    "# Write a program that allows you to enter 4 numbers and stores them in a file called “Numbers”\r\n",
    "#•\t3\r\n",
    "#•  45\r\n",
    "#•\t83\r\n",
    "#•\t21\r\n",
    "#Have a go at ‘w’ ‘r’  ‘a’\r\n",
    "\r\n",
    "myfile = open(\"numbers.txt\", \"w\")\r\n",
    "\r\n",
    "\r\n",
    "def write_file(x, y, z, a)\r\n",
    "    if x = 3:\r\n",
    "        my_file.write(x)\r\n",
    "    elif y = 45:\r\n",
    "        my_file.write(45)\r\n",
    "    elif z = 83:\r\n",
    "        my_file.write(83)\r\n",
    "    elif a = 21:\r\n",
    "        my_file.write(21)\r\n",
    "    else:\r\n",
    "        print (\"Enter a better number\")\r\n",
    "\r\n",
    "write_file(int(input\"Enter a number, if it's correct I will add it to my file:\"))\r\n",
    "\r\n",
    "with open (\"numbers.txt\", \"r\") as myfile:\r\n",
    "    data = myfile.read()\r\n",
    "\r\n",
    "print(data)\r\n",
    "\r\n",
    "numbers.close()\r\n",
    "\r\n",
    "\r\n",
    "\r\n",
    "\r\n"
   ],
   "outputs": [
    {
     "output_type": "error",
     "ename": "SyntaxError",
     "evalue": "invalid syntax (Temp/ipykernel_20928/4210208077.py, line 12)",
     "traceback": [
      "\u001b[1;36m  File \u001b[1;32m\"C:\\Users\\WALF1\\AppData\\Local\\Temp/ipykernel_20928/4210208077.py\"\u001b[1;36m, line \u001b[1;32m12\u001b[0m\n\u001b[1;33m    def write_file(x, y, z, a)\u001b[0m\n\u001b[1;37m                              ^\u001b[0m\n\u001b[1;31mSyntaxError\u001b[0m\u001b[1;31m:\u001b[0m invalid syntax\n"
     ]
    }
   ],
   "metadata": {}
  },
  {
   "cell_type": "code",
   "execution_count": null,
   "source": [
    "#Task2\r\n",
    "# Write a program to ask a student for their percentage mark and convert this to a grade.\r\n",
    "#The conversion will be done in a function called mark_grade"
   ],
   "outputs": [],
   "metadata": {}
  },
  {
   "cell_type": "code",
   "execution_count": null,
   "source": [
    "#Task2 Extension\r\n",
    "#•\tAsk the user for their target grade and print this with their mark\r\n",
    "#•\tIf their target grade > exam grade display a suitable message\r\n",
    "#•\tIf their target grade = exam grade display a suitable message\r\n",
    "#•\tIf their target grade < exam grade display a suitable message"
   ],
   "outputs": [],
   "metadata": {}
  },
  {
   "cell_type": "code",
   "execution_count": null,
   "source": [
    "#1.\tCreate a 1D array of numbers from 0 to 9\r\n",
    "#2.\tCreate a 3×3 NumPy array of all Boolean value Trues\r\n",
    "#3.\tExtract all odd numbers from array of 1-10\r\n",
    "#4.\tReplace all odd numbers in an array of 1-10 with the value -1\r\n",
    "#5.\tConvert a 1D array to a 2D array with 2 rows\r\n",
    "#6.\tCreate two arrays a and b, stack these two arrays vertically use the  np.dot and np.sum to calculate totals"
   ],
   "outputs": [],
   "metadata": {}
  },
  {
   "cell_type": "code",
   "execution_count": null,
   "source": [
    "#1.\tCreate the following pattern without hardcoding. Use only NumPy  functions.\r\n",
    "#array ([1,1,1,2,2,2,3,3,3,1,2,3,1,2,3,1,2,3])\r\n",
    "#2.\tIn two arrays a ( 1,2,3,4,5) and b ( 4,5,6,7,8,9) – remove all repeating  items present in array b\r\n",
    "#3.\tGet all items between 3 and 7 from a and b and sum them together"
   ],
   "outputs": [],
   "metadata": {}
  }
 ],
 "metadata": {
  "orig_nbformat": 4,
  "language_info": {
   "name": "python",
   "version": "3.9.6",
   "mimetype": "text/x-python",
   "codemirror_mode": {
    "name": "ipython",
    "version": 3
   },
   "pygments_lexer": "ipython3",
   "nbconvert_exporter": "python",
   "file_extension": ".py"
  },
  "kernelspec": {
   "name": "python3",
   "display_name": "Python 3.9.6 64-bit"
  },
  "interpreter": {
   "hash": "799cbf69c42a84c723d8a903e9a6537830e16f79a0edb45cbb30e7d3e48922a6"
  }
 },
 "nbformat": 4,
 "nbformat_minor": 2
}