{
 "cells": [
  {
   "cell_type": "code",
   "execution_count": null,
   "source": [
    "#Task1\r\n",
    "# Write a program that allows you to enter 4 numbers and stores them in a file called “Numbers”\r\n",
    "#•\t3\r\n",
    "#•  45\r\n",
    "#•\t83\r\n",
    "#•\t21\r\n",
    "#Have a go at ‘w’ ‘r’  ‘a’\r\n",
    "\r\n"
   ],
   "outputs": [],
   "metadata": {}
  },
  {
   "cell_type": "code",
   "execution_count": null,
   "source": [
    "#Task2\r\n",
    "# Write a program to ask a student for their percentage mark and convert this to a grade.\r\n",
    "#The conversion will be done in a function called mark_grade"
   ],
   "outputs": [],
   "metadata": {}
  },
  {
   "cell_type": "code",
   "execution_count": null,
   "source": [
    "#Task2 Extension\r\n",
    "#•\tAsk the user for their target grade and print this with their mark\r\n",
    "#•\tIf their target grade > exam grade display a suitable message\r\n",
    "#•\tIf their target grade = exam grade display a suitable message\r\n",
    "#•\tIf their target grade < exam grade display a suitable message"
   ],
   "outputs": [],
   "metadata": {}
  },
  {
   "cell_type": "code",
   "execution_count": null,
   "source": [
    "#1.\tCreate a 1D array of numbers from 0 to 9\r\n",
    "#2.\tCreate a 3×3 NumPy array of all Boolean value Trues\r\n",
    "#3.\tExtract all odd numbers from array of 1-10\r\n",
    "#4.\tReplace all odd numbers in an array of 1-10 with the value -1\r\n",
    "#5.\tConvert a 1D array to a 2D array with 2 rows\r\n",
    "#6.\tCreate two arrays a and b, stack these two arrays vertically use the  np.dot and np.sum to calculate totals"
   ],
   "outputs": [],
   "metadata": {}
  },
  {
   "cell_type": "code",
   "execution_count": null,
   "source": [
    "#1.\tCreate the following pattern without hardcoding. Use only NumPy  functions.\r\n",
    "#array ([1,1,1,2,2,2,3,3,3,1,2,3,1,2,3,1,2,3])\r\n",
    "#2.\tIn two arrays a ( 1,2,3,4,5) and b ( 4,5,6,7,8,9) – remove all repeating  items present in array b\r\n",
    "#3.\tGet all items between 3 and 7 from a and b and sum them together"
   ],
   "outputs": [],
   "metadata": {}
  }
 ],
 "metadata": {
  "orig_nbformat": 4,
  "language_info": {
   "name": "python"
  }
 },
 "nbformat": 4,
 "nbformat_minor": 2
}