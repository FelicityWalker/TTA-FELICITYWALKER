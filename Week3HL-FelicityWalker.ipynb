{
 "cells": [
  {
   "cell_type": "code",
   "execution_count": null,
   "source": [
    "#Task1\r\n",
    "# Write a program that allows you to enter 4 numbers and stores them in a file called “Numbers”\r\n",
    "#•\t3\r\n",
    "#•  45\r\n",
    "#•\t83\r\n",
    "#•\t21\r\n",
    "#Have a go at ‘w’ ‘r’  ‘a’\r\n",
    "\r\n",
    "myfile = open(\"numbers.txt\", \"w\")\r\n",
    "\r\n",
    "def write_to_file(y):\r\n",
    "    if (y == 3):\r\n",
    "        myfile.write(\"3,\")\r\n",
    "    if (y == 45):\r\n",
    "        myfile.write( \"45,\")\r\n",
    "    if (y == 83):\r\n",
    "        myfile.write(\"83,\")\r\n",
    "    if (y == 21):\r\n",
    "        myfile.write(\"21,\")\r\n",
    "    else:\r\n",
    "        print (\"Enter a better number try either 3, 45, 83 or 21\")\r\n",
    "\r\n",
    "for y in range(4):\r\n",
    "    write_to_file(int(input(\"Enter a number:\")))\r\n",
    "    \r\n",
    "\r\n",
    "with open (\"numbers.txt\", \"r\") as myfile:\r\n",
    "    data = myfile.read().replace(',', '\\n')\r\n",
    "\r\n",
    "print(data)\r\n",
    "\r\n",
    "with open(\"numbers.txt\", \"a\") as myfile:\r\n",
    "    append_file = myfile.write(\"number list is now complete\")\r\n",
    "\r\n",
    "with open (\"numbers.txt\", \"r\") as myfile:\r\n",
    "    read_file = myfile.read()\r\n",
    "print(read_file)\r\n",
    "\r\n",
    "myfile.close()"
   ],
   "outputs": [],
   "metadata": {}
  },
  {
   "cell_type": "code",
   "execution_count": 2,
   "source": [
    "#Task2\r\n",
    "# Write a program to ask a student for their percentage mark and convert this to a grade.\r\n",
    "#The conversion will be done in a function called mark_grade\r\n",
    "\r\n",
    "def mark_grade(grade):\r\n",
    "    if (grade > 80):\r\n",
    "        print (\"Your grade is A\")\r\n",
    "    if (grade > 60):\r\n",
    "        print (\"Your grade is B\")\r\n",
    "    if (grade > 40):\r\n",
    "        print (\"Your grade is C\")\r\n",
    "    if (grade > 20):\r\n",
    "        print (\"Your grade is D\")\r\n",
    "    if (grade > 10):\r\n",
    "        print (\"Your grade is E\")\r\n",
    "    return grade\r\n",
    "\r\n",
    "mark_grade(int(input(\"Enter your percentage mark\")))\r\n",
    "   "
   ],
   "outputs": [
    {
     "output_type": "stream",
     "name": "stdout",
     "text": [
      "Your grade is E\n"
     ]
    },
    {
     "output_type": "execute_result",
     "data": {
      "text/plain": [
       "20"
      ]
     },
     "metadata": {},
     "execution_count": 2
    }
   ],
   "metadata": {}
  },
  {
   "cell_type": "code",
   "execution_count": null,
   "source": [
    "#Task2 Extension\r\n",
    "#•\tAsk the user for their target grade and print this with their mark\r\n",
    "#•\tIf their target grade > exam grade display a suitable message\r\n",
    "#•\tIf their target grade = exam grade display a suitable message\r\n",
    "#•\tIf their target grade < exam grade display a suitable message\r\n",
    "\r\n",
    "def target_grade(target):\r\n",
    "    if (target == mark_grade):\r\n",
    "        print (\"You met your target grade\")\r\n",
    "    if (target > mark_grade):\r\n",
    "        print (\"You overachieved your target grade\")\r\n",
    "    if (target < mark_grade):\r\n",
    "        print (\"You underachived your grade\")\r\n",
    "\r\n",
    "target_grade(input(\"Enter your target grade\"))"
   ],
   "outputs": [],
   "metadata": {}
  },
  {
   "cell_type": "code",
   "execution_count": null,
   "source": [
    "#1.\tCreate a 1D array of numbers from 0 to 9\r\n",
    "#2.\tCreate a 3×3 NumPy array of all Boolean value Trues\r\n",
    "#3.\tExtract all odd numbers from array of 1-10\r\n",
    "#4.\tReplace all odd numbers in an array of 1-10 with the value -1\r\n",
    "#5.\tConvert a 1D array to a 2D array with 2 rows\r\n",
    "#6.\tCreate two arrays a and b, stack these two arrays vertically use the  np.dot and np.sum to calculate totals"
   ],
   "outputs": [],
   "metadata": {}
  },
  {
   "cell_type": "code",
   "execution_count": null,
   "source": [
    "#1.\tCreate the following pattern without hardcoding. Use only NumPy  functions.\r\n",
    "#array ([1,1,1,2,2,2,3,3,3,1,2,3,1,2,3,1,2,3])\r\n",
    "#2.\tIn two arrays a ( 1,2,3,4,5) and b ( 4,5,6,7,8,9) – remove all repeating  items present in array b\r\n",
    "#3.\tGet all items between 3 and 7 from a and b and sum them together"
   ],
   "outputs": [],
   "metadata": {}
  }
 ],
 "metadata": {
  "orig_nbformat": 4,
  "language_info": {
   "name": "python",
   "version": "3.9.6",
   "mimetype": "text/x-python",
   "codemirror_mode": {
    "name": "ipython",
    "version": 3
   },
   "pygments_lexer": "ipython3",
   "nbconvert_exporter": "python",
   "file_extension": ".py"
  },
  "kernelspec": {
   "name": "python3",
   "display_name": "Python 3.9.6 64-bit"
  },
  "interpreter": {
   "hash": "799cbf69c42a84c723d8a903e9a6537830e16f79a0edb45cbb30e7d3e48922a6"
  }
 },
 "nbformat": 4,
 "nbformat_minor": 2
}