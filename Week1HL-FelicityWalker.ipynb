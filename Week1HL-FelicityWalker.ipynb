{
 "metadata": {
  "language_info": {
   "codemirror_mode": {
    "name": "ipython",
    "version": 3
   },
   "file_extension": ".py",
   "mimetype": "text/x-python",
   "name": "python",
   "nbconvert_exporter": "python",
   "pygments_lexer": "ipython3",
   "version": "3.9.6"
  },
  "orig_nbformat": 4,
  "kernelspec": {
   "name": "python3",
   "display_name": "Python 3.9.6 64-bit"
  },
  "interpreter": {
   "hash": "799cbf69c42a84c723d8a903e9a6537830e16f79a0edb45cbb30e7d3e48922a6"
  }
 },
 "nbformat": 4,
 "nbformat_minor": 2,
 "cells": [
  {
   "cell_type": "code",
   "execution_count": null,
   "source": [
    "print(\"Hello World\")"
   ],
   "outputs": [],
   "metadata": {}
  },
  {
   "cell_type": "code",
   "execution_count": null,
   "source": [
    "#Task1\r\n",
    "\r\n",
    "#Write a program that does the following\r\n",
    "#a)\tStores a random number (1-10) in a variable – see hint below.\r\n",
    "#b)\tAsks a user for their name and stores this in a variable.\r\n",
    "#c)\tAsks a user to guess the number between 1 and 10.\r\n",
    "#d)\tTells the user whether they have guessed correctly.\r\n",
    "import random\r\n",
    "\r\n",
    "#Variables\r\n",
    "LuckyNumber = (random.randint(1,10)) #Generates a lucky number\r\n",
    "Name = input(\"What is your name?\") #Asks user to input name\r\n",
    "NumberGuess = int(input(\"Guess a number between 1-10?\")) #Asks user to guess an input between 1-10\r\n",
    "\r\n",
    "#conditions\r\n",
    "if NumberGuess == LuckyNumber:\r\n",
    "    print (Name, \"You're a winner baby\", LuckyNumber, \"is you're lucky number\")\r\n",
    "elif NumberGuess != LuckyNumber:\r\n",
    "    print (Name, NumberGuess, \"is not your lucky number sashay away and try again\") #work out a way so you don't have to enter in a number again\r\n"
   ],
   "outputs": [],
   "metadata": {}
  },
  {
   "cell_type": "code",
   "execution_count": null,
   "source": [
    "#Task2\r\n",
    "\r\n",
    "#Write a program that asks a user for their favourite number between 1 and 100 and then tells them a joke based on the number. You should use a minimum of 3 jokes.\r\n",
    "\r\n",
    "Fave = int(input(\"Tell me your favourite number between 1 and 100 and I will tell you a funny RuPaul quote\"))\r\n",
    "\r\n",
    "if (Fave > 1) and (Fave<33) :\r\n",
    "    print(\"Impersonating Beyoncé is not your destiny, child.\")\r\n",
    "elif (Fave > 33) and (Fave<66) :\r\n",
    "    print(\"You’re shadier than a palm tree.\")\r\n",
    "elif (Fave > 66) and (Fave<100) :\r\n",
    "    print(\"SYou’re so old you’re still on MySpace.com.\")\r\n",
    "else:\r\n",
    "    print(\"Sashay away and try entering a number between 1-100\")"
   ],
   "outputs": [],
   "metadata": {}
  },
  {
   "cell_type": "code",
   "execution_count": null,
   "source": [
    "#Task 3\r\n",
    "\r\n",
    "#Write a program that allows user to enter their favourite starter, main course, dessert and drink.\r\n",
    "#Concatenate these and output a message which says – “Your favourite meal is  ………with a glass of….”\r\n",
    "\r\n",
    "#Userinput\r\n",
    "Starter = input(\"Tell me your favourite starter and I will add this to your favourite meal\")\r\n",
    "MainCourse = input(\"Tell me your favourite main course and I will add this to your favourite meal\")\r\n",
    "Dessert = input(\"Tell me your favourite dessert and I will add this to your favourite meal\")\r\n",
    "Drink = input(\"Tell me your favourite drink and I will add this to your favourite meal\") \r\n",
    "\r\n",
    "Meal = (Starter + \", \"+ MainCourse + \", \"+ Dessert)\r\n",
    "\r\n",
    "#Output\r\n",
    "print (\"You're favourite meal is \" + Meal + \"with a glass of\" + Drink \". That meal looks tasty!\") "
   ],
   "outputs": [],
   "metadata": {}
  },
  {
   "cell_type": "code",
   "execution_count": null,
   "source": [
    "#Task 4\r\n",
    "\r\n",
    "#A motorbike costs £2000 and loses 10% of its value every year. Using a loop, print the value of the bike every following year until it falls below £1000.\r\n",
    "\r\n",
    "#Current Motor bike value\r\n",
    "CMBV = 2000\r\n",
    "\r\n",
    "while CMBV >1000:\r\n",
    "    print(CMBV)\r\n",
    "    CMBV = CMBV *0.9\r\n",
    "#Motor bike value per year\r\n",
    "\r\n"
   ],
   "outputs": [],
   "metadata": {}
  },
  {
   "cell_type": "code",
   "execution_count": null,
   "source": [
    "#Task 5\r\n",
    "\r\n",
    "#Write a program which will ask for two numbers from a user. Then offer a menu to the user giving them a choice of operator:\r\n",
    "#e.g. – Enter “a” if you want to add\r\n",
    "#“b” if you want to subtract\r\n",
    "\r\n",
    "#Include +, -, /, *, ** square (to the power of). Once the user has selected which operator they wish to use, perform the calculation.\r\n",
    "\r\n",
    "Number1 = int(input(\"Tell me your first number?\"))\r\n",
    "op = input(\"Enter an operator:\")\r\n",
    "Number2 = int(input(\"Tell me your second number?\"))\r\n",
    "\r\n",
    "if op ==  \"+\":\r\n",
    "    print(Number1 + Number2)\r\n",
    "elif op == \"-\":\r\n",
    "    print(Number1 - Number2)\r\n",
    "elif op == \"/\":\r\n",
    "    print(Number1 / Number2)\r\n",
    "elif op == \"*\":\r\n",
    "    print(Number1 * Number2)\r\n",
    "elif op == \"**\":\r\n",
    "    print(Number1 ** Number2)\r\n",
    "else: \r\n",
    "    print (\"Try entering an operator\")\r\n",
    "\r\n",
    "\r\n"
   ],
   "outputs": [],
   "metadata": {}
  }
 ]
}