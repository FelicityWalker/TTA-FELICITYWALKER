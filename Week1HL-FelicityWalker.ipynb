{
 "metadata": {
  "language_info": {
   "codemirror_mode": {
    "name": "ipython",
    "version": 3
   },
   "file_extension": ".py",
   "mimetype": "text/x-python",
   "name": "python",
   "nbconvert_exporter": "python",
   "pygments_lexer": "ipython3",
   "version": "3.9.6"
  },
  "orig_nbformat": 4,
  "kernelspec": {
   "name": "python3",
   "display_name": "Python 3.9.6 64-bit"
  },
  "interpreter": {
   "hash": "799cbf69c42a84c723d8a903e9a6537830e16f79a0edb45cbb30e7d3e48922a6"
  }
 },
 "nbformat": 4,
 "nbformat_minor": 2,
 "cells": [
  {
   "cell_type": "code",
   "execution_count": 8,
   "metadata": {},
   "outputs": [
    {
     "output_type": "stream",
     "name": "stdout",
     "text": [
      "Hello World\n"
     ]
    }
   ],
   "source": [
    "print(\"Hello World\")"
   ]
  },
  {
   "cell_type": "code",
   "execution_count": 27,
   "metadata": {},
   "outputs": [
    {
     "output_type": "stream",
     "name": "stdout",
     "text": [
      "Felicity 9 is not your lucky number sashay away and try again\n"
     ]
    }
   ],
   "source": [
    "#Task1\n",
    "#Write a program that does the following\n",
    "#a)\tStores a random number (1-10) in a variable – see hint below.\n",
    "#b)\tAsks a user for their name and stores this in a variable.\n",
    "#c)\tAsks a user to guess the number between 1 and 10.\n",
    "#d)\tTells the user whether they have guessed correctly.\n",
    "import random\n",
    "\n",
    "#Variables\n",
    "LuckyNumber = (random.randint(1,10)) #Generates a lucky number\n",
    "Name = input(\"What is your name?\") #Asks user to input name\n",
    "NumberGuess = int(input(\"Guess a number between 1-10?\")) #Asks user to guess an input between 1-10\n",
    "\n",
    "#conditions\n",
    "if NumberGuess == LuckyNumber:\n",
    "    print (Name, \"You're a winner baby\", LuckyNumber, \"is you're lucky number\")\n",
    "elif NumberGuess != LuckyNumber:\n",
    "    print (Name, NumberGuess, \"is not your lucky number sashay away and try again\") #work out a way so you don't have to enter in a number again\n"
   ]
  },
  {
   "cell_type": "code",
   "execution_count": 15,
   "metadata": {},
   "outputs": [
    {
     "output_type": "stream",
     "name": "stdout",
     "text": [
      "Sashay away and try entering a number between 1-100\n"
     ]
    }
   ],
   "source": [
    "#Task2\n",
    "#Write a program that asks a user for their favourite number between 1 and 100 and then tells them a joke based on the number. You should use a minimum of 3 jokes.\n",
    "\n",
    "#userinput\n",
    "FavouriteNumber = int(input(\"Tell me your favourite number between 1 and 100 and I will tell you a funny RuPaul quote\"))\n",
    "\n",
    "Quote1 = \"Impersonating Beyoncé is not your destiny, child.\"\n",
    "Quote2 = \"You’re shadier than a palm tree.\"\n",
    "Quote3 = \"You’re so old you’re still on MySpace.com.\"\n",
    "Quote4 = \"You remind me of a Russian doll, full of yourself.\"\n",
    "Quote5 = \"BMW – Body. Made. Wrong\"\n",
    "Incorrect = \"Sashay away and try entering a number between 1-100\"\n",
    "\n",
    "#conditions\n",
    "if FavouriteNumber <=1:\n",
    "    print (Incorrect)\n",
    "elif FavouriteNumber <=20:\n",
    "    print(Quote1)\n",
    "elif FavouriteNumber <=40:\n",
    "    print(Quote2)\n",
    "elif FavouriteNumber <=60:\n",
    "    print(Quote3)\n",
    "elif FavouriteNumber <=80:\n",
    "    print(Quote4)\n",
    "elif FavouriteNumber <=100:\n",
    "    print (Quote5)\n",
    "elif FavouriteNumber >=101:\n",
    "    print (Incorrect)\n"
   ]
  },
  {
   "cell_type": "code",
   "execution_count": null,
   "metadata": {},
   "outputs": [],
   "source": []
  }
 ]
}