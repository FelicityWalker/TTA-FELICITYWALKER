{
 "metadata": {
  "language_info": {
   "codemirror_mode": {
    "name": "ipython",
    "version": 3
   },
   "file_extension": ".py",
   "mimetype": "text/x-python",
   "name": "python",
   "nbconvert_exporter": "python",
   "pygments_lexer": "ipython3",
   "version": "3.9.6"
  },
  "orig_nbformat": 4,
  "kernelspec": {
   "name": "python3",
   "display_name": "Python 3.9.6 64-bit"
  },
  "interpreter": {
   "hash": "799cbf69c42a84c723d8a903e9a6537830e16f79a0edb45cbb30e7d3e48922a6"
  }
 },
 "nbformat": 4,
 "nbformat_minor": 2,
 "cells": [
  {
   "cell_type": "code",
   "execution_count": 8,
   "metadata": {},
   "outputs": [
    {
     "output_type": "stream",
     "name": "stdout",
     "text": [
      "Hello World\n"
     ]
    }
   ],
   "source": [
    "print(\"Hello World\")"
   ]
  },
  {
   "cell_type": "code",
   "execution_count": 27,
   "metadata": {},
   "outputs": [
    {
     "output_type": "stream",
     "name": "stdout",
     "text": [
      "Felicity 9 is not your lucky number sashay away and try again\n"
     ]
    }
   ],
   "source": [
    "#Task1\n",
    "\n",
    "#Write a program that does the following\n",
    "#a)\tStores a random number (1-10) in a variable – see hint below.\n",
    "#b)\tAsks a user for their name and stores this in a variable.\n",
    "#c)\tAsks a user to guess the number between 1 and 10.\n",
    "#d)\tTells the user whether they have guessed correctly.\n",
    "import random\n",
    "\n",
    "#Variables\n",
    "LuckyNumber = (random.randint(1,10)) #Generates a lucky number\n",
    "Name = input(\"What is your name?\") #Asks user to input name\n",
    "NumberGuess = int(input(\"Guess a number between 1-10?\")) #Asks user to guess an input between 1-10\n",
    "\n",
    "#conditions\n",
    "if NumberGuess == LuckyNumber:\n",
    "    print (Name, \"You're a winner baby\", LuckyNumber, \"is you're lucky number\")\n",
    "elif NumberGuess != LuckyNumber:\n",
    "    print (Name, NumberGuess, \"is not your lucky number sashay away and try again\") #work out a way so you don't have to enter in a number again\n"
   ]
  },
  {
   "cell_type": "code",
   "execution_count": 33,
   "metadata": {},
   "outputs": [
    {
     "output_type": "error",
     "ename": "SyntaxError",
     "evalue": "invalid syntax (Temp/ipykernel_14484/1876669487.py, line 7)",
     "traceback": [
      "\u001b[1;36m  File \u001b[1;32m\"C:\\Users\\WALF1\\AppData\\Local\\Temp/ipykernel_14484/1876669487.py\"\u001b[1;36m, line \u001b[1;32m7\u001b[0m\n\u001b[1;33m    if Fave > 1 and <33 :\u001b[0m\n\u001b[1;37m                    ^\u001b[0m\n\u001b[1;31mSyntaxError\u001b[0m\u001b[1;31m:\u001b[0m invalid syntax\n"
     ]
    }
   ],
   "source": [
    "#Task2\n",
    "\n",
    "#Write a program that asks a user for their favourite number between 1 and 100 and then tells them a joke based on the number. You should use a minimum of 3 jokes.\n",
    "\n",
    "Fave = int(input(\"Tell me your favourite number between 1 and 100 and I will tell you a funny RuPaul quote\"))\n",
    "\n",
    "if Fave > 1 and <33 :\n",
    "    print(\"Impersonating Beyoncé is not your destiny, child.\")\n",
    "elif Fave > 33 and <66 :\n",
    "    print(\"You’re shadier than a palm tree.\")\n",
    "elif Fave > 66 and <100 :\n",
    "    print(\"SYou’re so old you’re still on MySpace.com.\")\n"
   ]
  },
  {
   "cell_type": "code",
   "execution_count": 26,
   "metadata": {},
   "outputs": [
    {
     "output_type": "stream",
     "name": "stdout",
     "text": [
      "You're favourite meal is prawns ,roast ,cake and wine. That meal looks tasty!\n"
     ]
    }
   ],
   "source": [
    "#Task 3\n",
    "\n",
    "#Write a program that allows user to enter their favourite starter, main course, dessert and drink.\n",
    "#Concatenate these and output a message which says – “Your favourite meal is  ………with a glass of….”\n",
    "\n",
    "#Userinput\n",
    "Starter = input(\"Tell me your favourite starter and I will add this to your favourite meal\")\n",
    "MainCourse = input(\"Tell me your favourite main course and I will add this to your favourite meal\")\n",
    "Dessert = input(\"Tell me your favourite dessert and I will add this to your favourite meal\")\n",
    "Drink = input(\"Tell me your favourite drink and I will add this to your favourite meal\") \n",
    "\n",
    "Meal = (Starter + \", \"+ MainCourse + \", \"+ Dessert)\n",
    "\n",
    "#Output\n",
    "print (\"You're favourite meal is \" + Meal + \"with a glass of\" + Drink \". That meal looks tasty!\") "
   ]
  },
  {
   "cell_type": "code",
   "execution_count": 102,
   "metadata": {},
   "outputs": [
    {
     "output_type": "stream",
     "name": "stdout",
     "text": [
      "2000\n1800.0\n1620.0\n1458.0\n1312.2\n1180.98\n1062.882\n"
     ]
    }
   ],
   "source": [
    "#Task 4\n",
    "\n",
    "#A motorbike costs £2000 and loses 10% of its value every year. Using a loop, print the value of the bike every following year until it falls below £1000.\n",
    "\n",
    "#Current Motor bike value\n",
    "CMBV = 2000\n",
    "\n",
    "while CMBV >1000:\n",
    "    print(CMBV)\n",
    "    CMBV = CMBV *0.9\n",
    "#Motor bike value per year\n",
    "\n",
    "\n",
    "#unsure how to complete loop\n",
    "\n",
    "\n"
   ]
  },
  {
   "cell_type": "code",
   "execution_count": 3,
   "metadata": {},
   "outputs": [
    {
     "output_type": "error",
     "ename": "ValueError",
     "evalue": "invalid literal for int() with base 10: 'Tell me your first number?'",
     "traceback": [
      "\u001b[1;31m---------------------------------------------------------------------------\u001b[0m",
      "\u001b[1;31mValueError\u001b[0m                                Traceback (most recent call last)",
      "\u001b[1;32m~\\AppData\\Local\\Temp/ipykernel_14484/503053520.py\u001b[0m in \u001b[0;36m<module>\u001b[1;34m\u001b[0m\n\u001b[0;32m      7\u001b[0m \u001b[1;31m#Include +, -, /, *, ** square (to the power of). Once the user has selected which operator they wish to use, perform the calculation.\u001b[0m\u001b[1;33m\u001b[0m\u001b[1;33m\u001b[0m\u001b[1;33m\u001b[0m\u001b[0m\n\u001b[0;32m      8\u001b[0m \u001b[1;33m\u001b[0m\u001b[0m\n\u001b[1;32m----> 9\u001b[1;33m \u001b[0mNumber1\u001b[0m \u001b[1;33m=\u001b[0m \u001b[0minput\u001b[0m \u001b[1;33m(\u001b[0m\u001b[0mint\u001b[0m\u001b[1;33m(\u001b[0m\u001b[1;34m\"Tell me your first number?\"\u001b[0m\u001b[1;33m)\u001b[0m\u001b[1;33m)\u001b[0m\u001b[1;33m\u001b[0m\u001b[1;33m\u001b[0m\u001b[0m\n\u001b[0m\u001b[0;32m     10\u001b[0m \u001b[0mNumber2\u001b[0m \u001b[1;33m=\u001b[0m \u001b[0minput\u001b[0m \u001b[1;33m(\u001b[0m\u001b[0mint\u001b[0m\u001b[1;33m(\u001b[0m\u001b[1;34m\"Tell me your second number?\"\u001b[0m\u001b[1;33m)\u001b[0m\u001b[1;33m)\u001b[0m\u001b[1;33m\u001b[0m\u001b[1;33m\u001b[0m\u001b[0m\n\u001b[0;32m     11\u001b[0m \u001b[0mresult\u001b[0m \u001b[1;33m=\u001b[0m \u001b[0mNumber1\u001b[0m \u001b[1;33m+\u001b[0m \u001b[0mNumber2\u001b[0m\u001b[1;33m\u001b[0m\u001b[1;33m\u001b[0m\u001b[0m\n",
      "\u001b[1;31mValueError\u001b[0m: invalid literal for int() with base 10: 'Tell me your first number?'"
     ]
    }
   ],
   "source": [
    "#Task 5\n",
    "\n",
    "#Write a program which will ask for two numbers from a user. Then offer a menu to the user giving them a choice of operator:\n",
    "#e.g. – Enter “a” if you want to add\n",
    "#“b” if you want to subtract\n",
    "\n",
    "#Include +, -, /, *, ** square (to the power of). Once the user has selected which operator they wish to use, perform the calculation.\n",
    "\n",
    "Number1 = int(input(\"Tell me your first number?\"))\n",
    "Number2 = int(input(\"Tell me your second number?\"))\n",
    "result = Number1 + Number2\n",
    "print = (result)\n",
    "\"Which operator would you like to select?\n",
    "\n",
    "\n"
   ]
  },
  {
   "cell_type": "code",
   "execution_count": null,
   "metadata": {},
   "outputs": [],
   "source": []
  }
 ]
}