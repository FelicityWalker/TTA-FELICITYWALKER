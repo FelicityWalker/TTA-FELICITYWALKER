{
 "metadata": {
  "language_info": {
   "codemirror_mode": {
    "name": "ipython",
    "version": 3
   },
   "file_extension": ".py",
   "mimetype": "text/x-python",
   "name": "python",
   "nbconvert_exporter": "python",
   "pygments_lexer": "ipython3",
   "version": "3.9.6"
  },
  "orig_nbformat": 4,
  "kernelspec": {
   "name": "python3",
   "display_name": "Python 3.9.6 64-bit"
  },
  "interpreter": {
   "hash": "799cbf69c42a84c723d8a903e9a6537830e16f79a0edb45cbb30e7d3e48922a6"
  }
 },
 "nbformat": 4,
 "nbformat_minor": 2,
 "cells": [
  {
   "cell_type": "code",
   "execution_count": 8,
   "metadata": {},
   "outputs": [
    {
     "output_type": "stream",
     "name": "stdout",
     "text": [
      "Hello World\n"
     ]
    }
   ],
   "source": [
    "print(\"Hello World\")"
   ]
  },
  {
   "cell_type": "code",
   "execution_count": 27,
   "metadata": {},
   "outputs": [
    {
     "output_type": "stream",
     "name": "stdout",
     "text": [
      "Felicity 9 is not your lucky number sashay away and try again\n"
     ]
    }
   ],
   "source": [
    "#Task1\n",
    "\n",
    "#Write a program that does the following\n",
    "#a)\tStores a random number (1-10) in a variable – see hint below.\n",
    "#b)\tAsks a user for their name and stores this in a variable.\n",
    "#c)\tAsks a user to guess the number between 1 and 10.\n",
    "#d)\tTells the user whether they have guessed correctly.\n",
    "import random\n",
    "\n",
    "#Variables\n",
    "LuckyNumber = (random.randint(1,10)) #Generates a lucky number\n",
    "Name = input(\"What is your name?\") #Asks user to input name\n",
    "NumberGuess = int(input(\"Guess a number between 1-10?\")) #Asks user to guess an input between 1-10\n",
    "\n",
    "#conditions\n",
    "if NumberGuess == LuckyNumber:\n",
    "    print (Name, \"You're a winner baby\", LuckyNumber, \"is you're lucky number\")\n",
    "elif NumberGuess != LuckyNumber:\n",
    "    print (Name, NumberGuess, \"is not your lucky number sashay away and try again\") #work out a way so you don't have to enter in a number again\n"
   ]
  },
  {
   "cell_type": "code",
   "execution_count": 27,
   "metadata": {},
   "outputs": [
    {
     "output_type": "stream",
     "name": "stdout",
     "text": [
      "You’re so old you’re still on MySpace.com.\n"
     ]
    }
   ],
   "source": [
    "#Task2\n",
    "\n",
    "#Write a program that asks a user for their favourite number between 1 and 100 and then tells them a joke based on the number. You should use a minimum of 3 jokes.\n",
    "\n",
    "#userinput\n",
    "FavouriteNumber = int(input(\"Tell me your favourite number between 1 and 100 and I will tell you a funny RuPaul quote\"))\n",
    "\n",
    "Quote1 = \"Impersonating Beyoncé is not your destiny, child.\"\n",
    "Quote2 = \"You’re shadier than a palm tree.\"\n",
    "Quote3 = \"You’re so old you’re still on MySpace.com.\"\n",
    "Quote4 = \"You remind me of a Russian doll, full of yourself.\"\n",
    "Quote5 = \"BMW – Body. Made. Wrong\"\n",
    "Incorrect = \"Sashay away and try entering a number between 1-100\"\n",
    "\n",
    "#conditions\n",
    "if FavouriteNumber <=1:\n",
    "    print (Incorrect)\n",
    "elif FavouriteNumber <=20:\n",
    "    print(Quote1)\n",
    "elif FavouriteNumber <=40:\n",
    "    print(Quote2)\n",
    "elif FavouriteNumber <=60:\n",
    "    print(Quote3)\n",
    "elif FavouriteNumber <=80:\n",
    "    print(Quote4)\n",
    "elif FavouriteNumber <=100:\n",
    "    print (Quote5)\n",
    "elif FavouriteNumber >=101:\n",
    "    print (Incorrect)\n"
   ]
  },
  {
   "cell_type": "code",
   "execution_count": 26,
   "metadata": {},
   "outputs": [
    {
     "output_type": "stream",
     "name": "stdout",
     "text": [
      "You're favourite meal is prawns ,roast ,cake and wine. That meal looks tasty!\n"
     ]
    }
   ],
   "source": [
    "#Task 3\n",
    "\n",
    "#Write a program that allows user to enter their favourite starter, main course, dessert and drink.\n",
    "#Concatenate these and output a message which says – “Your favourite meal is  ………with a glass of….”\n",
    "\n",
    "#Userinput\n",
    "Starter = input(\"Tell me your favourite starter and I will add this to your favourite meal\")\n",
    "MainCourse = input(\"Tell me your favourite main course and I will add this to your favourite meal\")\n",
    "Dessert = input(\"Tell me your favourite dessert and I will add this to your favourite meal\")\n",
    "Drink = input(\"Tell me your favourite drink and I will add this to your favourite meal\") #wouldn't nessessarily want to write it out each time, how can I do this?\n",
    "\n",
    "Meal = (Starter + \", \"+ MainCourse + \", \"+ Dessert)\n",
    "\n",
    "#Output\n",
    "print (\"You're favourite meal is \" + Meal + \"with a glass of\" + Drink \". That meal looks tasty!\") #have I concatenated?"
   ]
  },
  {
   "cell_type": "code",
   "execution_count": 102,
   "metadata": {},
   "outputs": [
    {
     "output_type": "stream",
     "name": "stdout",
     "text": [
      "2000\n1800.0\n1620.0\n1458.0\n1312.2\n1180.98\n1062.882\n"
     ]
    }
   ],
   "source": [
    "#Task 4\n",
    "\n",
    "#A motorbike costs £2000 and loses 10% of its value every year. Using a loop, print the value of the bike every following year until it falls below £1000.\n",
    "\n",
    "#Current Motor bike value\n",
    "CMBV = 2000\n",
    "\n",
    "while CMBV >1000:\n",
    "    print(CMBV)\n",
    "    CMBV = CMBV *0.9\n",
    "#Motor bike value per year\n",
    "\n",
    "\n",
    "#unsure how to complete loop\n",
    "\n",
    "\n"
   ]
  },
  {
   "cell_type": "code",
   "execution_count": null,
   "metadata": {},
   "outputs": [],
   "source": [
    "#Task 5\n",
    "\n",
    "#Write a program which will ask for two numbers from a user. Then offer a menu to the user giving them a choice of operator:\n",
    "#e.g. – Enter “a” if you want to add\n",
    "#“b” if you want to subtract\n",
    "\n",
    "#Include +, -, /, *, ** square (to the power of). Once the user has selected which operator they wish to use, perform the calculation.\n",
    "\n",
    "Number1 = input(\"Tell me your first number?\")\n",
    "Number2 = input(\"Tell me your second number?\")\n",
    "\n",
    "\"Which operator would you like to select?\n",
    "\n",
    "a = +\n",
    "b = -\n",
    "c = /\n",
    "d = *\n",
    "e = **\n",
    "\n",
    "Operators = [a, b, c, d, e]\n",
    "\n",
    "for Number1 in Operators:\n",
    "    ()"
   ]
  },
  {
   "cell_type": "code",
   "execution_count": null,
   "metadata": {},
   "outputs": [],
   "source": []
  }
 ]
}