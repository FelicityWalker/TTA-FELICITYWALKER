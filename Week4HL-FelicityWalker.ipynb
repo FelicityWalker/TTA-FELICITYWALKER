{
 "cells": [
  {
   "cell_type": "code",
   "execution_count": null,
   "source": [
    "import pandas as pd\r\n"
   ],
   "outputs": [],
   "metadata": {}
  },
  {
   "cell_type": "code",
   "execution_count": null,
   "source": [
    "holdata = pd.read_csv(\"destinations.csv\")"
   ],
   "outputs": [],
   "metadata": {}
  },
  {
   "cell_type": "code",
   "execution_count": 4,
   "source": [
    "#1.\tHow many rows and columns are there in your file?\r\n",
    "import pandas as pd\r\n",
    "\r\n",
    "holdata = pd.read_csv(\"destinations.csv\")\r\n",
    "\r\n",
    "row_count, column_count = holdata.shape\r\n",
    "\r\n",
    "print(\"Number of rows \", row_count)\r\n",
    "print(\"Number of columns \", column_count)"
   ],
   "outputs": [
    {
     "output_type": "stream",
     "name": "stdout",
     "text": [
      "Number of rows  15\n",
      "Number of columns  5\n"
     ]
    }
   ],
   "metadata": {}
  },
  {
   "cell_type": "code",
   "execution_count": 5,
   "source": [
    "#2.\tPrint row 3-8 ( using iloc/loc).\r\n",
    "import pandas as pd\r\n",
    "\r\n",
    "holdata = pd.read_csv(\"destinations.csv\")\r\n",
    "\r\n",
    "print(holdata.iloc[3:9])"
   ],
   "outputs": [
    {
     "output_type": "stream",
     "name": "stdout",
     "text": [
      "  Destination  Feedback Score  Average Hotel Star Rating  \\\n",
      "3      France               5                        2.9   \n",
      "4     Germany               9                        3.9   \n",
      "5    Thailand               9                        4.1   \n",
      "6      Russia               7                        2.6   \n",
      "7        Cuba               9                        4.0   \n",
      "8    St Lucia               8                        4.2   \n",
      "\n",
      "   All-Inclusive Hotels Most Visited City  \n",
      "3                    56             Paris  \n",
      "4                    55            Berlin  \n",
      "5                   790           Bangkok  \n",
      "6                   128     St Petersberg  \n",
      "7                    56            Havana  \n",
      "8                    38           Castres  \n"
     ]
    }
   ],
   "metadata": {}
  },
  {
   "cell_type": "code",
   "execution_count": 3,
   "source": [
    "#3.\tFind the mean number of all-inclusive hotels across all destinations.\r\n",
    "import pandas as pd\r\n",
    "\r\n",
    "holdata = pd.read_csv(\"destinations.csv\")\r\n",
    "\r\n",
    "holdata[\"All-Inclusive Hotels\"].mean"
   ],
   "outputs": [
    {
     "output_type": "execute_result",
     "data": {
      "text/plain": [
       "<bound method NDFrame._add_numeric_operations.<locals>.mean of 0      62\n",
       "1      44\n",
       "2      82\n",
       "3      56\n",
       "4      55\n",
       "5     790\n",
       "6     128\n",
       "7      56\n",
       "8      38\n",
       "9      23\n",
       "10     14\n",
       "11    109\n",
       "12    206\n",
       "13     78\n",
       "14    408\n",
       "Name: All-Inclusive Hotels, dtype: int64>"
      ]
     },
     "metadata": {},
     "execution_count": 3
    }
   ],
   "metadata": {}
  },
  {
   "cell_type": "code",
   "execution_count": 23,
   "source": [
    "#4.\tFind the lowest scoring destination.\r\n",
    "\r\n",
    "import pandas as pd\r\n",
    "\r\n",
    "holdata = pd.read_csv(\"destinations.csv\")\r\n",
    "\r\n",
    "lowscore = holdata[\"Feedback Score\"].min()\r\n",
    "\r\n",
    "print(holdata[holdata['Destination'] == highscore])"
   ],
   "outputs": [
    {
     "output_type": "stream",
     "name": "stdout",
     "text": [
      "Empty DataFrame\n",
      "Columns: [Destination, Feedback Score, Average Hotel Star Rating, All-Inclusive Hotels, Most Visited City]\n",
      "Index: []\n"
     ]
    }
   ],
   "metadata": {}
  },
  {
   "cell_type": "code",
   "execution_count": 22,
   "source": [
    "#5.\tFind the highest scoring destination.\r\n",
    "import pandas as pd\r\n",
    "\r\n",
    "holdata = pd.read_csv(\"destinations.csv\")\r\n",
    "\r\n",
    "#returns index value of highest feeback score #needs amending to return value # then run iloc for row position\r\n",
    "\r\n",
    "highscore = holdata['Feedback Score'].max()\r\n",
    "\r\n",
    "print(holdata[holdata['Destination'] == highscore])\r\n",
    "\r\n"
   ],
   "outputs": [
    {
     "output_type": "stream",
     "name": "stdout",
     "text": [
      "Empty DataFrame\n",
      "Columns: [Destination, Feedback Score, Average Hotel Star Rating, All-Inclusive Hotels, Most Visited City]\n",
      "Index: []\n"
     ]
    }
   ],
   "metadata": {}
  },
  {
   "cell_type": "code",
   "execution_count": null,
   "source": [
    "#6.\tFind all the destinations where there are more than 9 all-inclusive hotels.\r\n",
    "\r\n"
   ],
   "outputs": [],
   "metadata": {}
  },
  {
   "cell_type": "code",
   "execution_count": null,
   "source": [
    "#7.\tFilter the data by score above 8.\r\n"
   ],
   "outputs": [],
   "metadata": {}
  },
  {
   "cell_type": "code",
   "execution_count": null,
   "source": [
    "#8. Filter the data score below 2 ( I need to know if these destinations should be removed or there is a problem)"
   ],
   "outputs": [],
   "metadata": {}
  },
  {
   "cell_type": "code",
   "execution_count": null,
   "source": [
    "#Extension\r\n",
    "#1.\tIs there a correlation between number of all-inclusive hotels and score?\r\n"
   ],
   "outputs": [],
   "metadata": {}
  },
  {
   "cell_type": "code",
   "execution_count": null,
   "source": [
    "#Extension\r\n",
    "#2. Create a data visualisation diagram to show destination and highest scores?"
   ],
   "outputs": [],
   "metadata": {}
  }
 ],
 "metadata": {
  "orig_nbformat": 4,
  "language_info": {
   "name": "python",
   "version": "3.9.6",
   "mimetype": "text/x-python",
   "codemirror_mode": {
    "name": "ipython",
    "version": 3
   },
   "pygments_lexer": "ipython3",
   "nbconvert_exporter": "python",
   "file_extension": ".py"
  },
  "kernelspec": {
   "name": "python3",
   "display_name": "Python 3.9.6 64-bit"
  },
  "interpreter": {
   "hash": "799cbf69c42a84c723d8a903e9a6537830e16f79a0edb45cbb30e7d3e48922a6"
  }
 },
 "nbformat": 4,
 "nbformat_minor": 2
}