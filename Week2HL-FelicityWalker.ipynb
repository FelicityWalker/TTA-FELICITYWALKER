{
 "cells": [
  {
   "cell_type": "code",
   "execution_count": null,
   "source": [
    "#Create your own Flow Diagram, a subject of your own choice, Example: Fast food order and convert it into code.\r\n",
    "\r\n",
    "item1 = (\"1. Chicken Burger £2.99\")\r\n",
    "item2 = (\"2. Beef Burger £2.99\")\r\n",
    "item3 = (\"3. Cheese burger £4.99\")\r\n",
    "meal = (\"meal £1.50\")\r\n",
    "purchase_menu = []\r\n",
    "\r\n",
    "def menu():\r\n",
    "    print(\"Welcome to Burger Shop our menu is\" + item1,item2,item3)\r\n",
    "\r\n",
    "def burger_selection():\r\n",
    "    meal_selection = int(input(\"What burger would you like to select 1, 2, or 3:\"))\r\n",
    "    if (meal_selection == 1):\r\n",
    "        purchase_menu.append(item1)\r\n",
    "    elif (meal_selection == 2):\r\n",
    "        purchase_menu.append(item2)\r\n",
    "    elif (meal_selection == 3):\r\n",
    "        purchase_menu.append(item3)\r\n",
    "    else:\r\n",
    "        print (\"Try entering 1, 2 or 3\")\r\n",
    "\r\n",
    "def current_order():\r\n",
    "    print (\"Your current order is\", purchase_menu)\r\n",
    "\r\n",
    "def make_meal():\r\n",
    "    meal_input = input(\"Would you like to make that a meal? You can get a drink and fries for £1.50!(Yes/No):\")\r\n",
    "    if (meal_input == \"yes\"):\r\n",
    "        purchase_menu.append(meal)\r\n",
    "    elif (meal_input == \"no\"):\r\n",
    "        current_order()\r\n",
    "    else:\r\n",
    "        print (\"Try entering yes or no\")\r\n",
    "\r\n",
    "def add():\r\n",
    "    add_to_order = input(\"Would you like to add any more burgers? (Yes/No):\")\r\n",
    "    if (add_to_order == \"yes\"):\r\n",
    "        menu()\r\n",
    "        burger_selection()\r\n",
    "        make_meal()\r\n",
    "    elif (add_to_order == \"no\"):\r\n",
    "        print (\"Your final order is\", purchase_menu)\r\n",
    "    else:\r\n",
    "        print (\"Try entering yes or no\")\r\n",
    "\r\n",
    "menu()\r\n",
    "burger_selection()\r\n",
    "current_order()\r\n",
    "make_meal()\r\n",
    "current_order()\r\n",
    "add()"
   ],
   "outputs": [],
   "metadata": {}
  },
  {
   "cell_type": "code",
   "execution_count": 8,
   "source": [
    "#Task 2 As an extension to the motorbike task that costs £2000 and loses 10% of its value every year. \r\n",
    "# Set up a function that performs the calculation by passing in parameters. \r\n",
    "# Then using a loop, print the value of the bike every following year until it falls below £1000.\r\n",
    "\r\n",
    "def motorbike_depriciation(CMBV):\r\n",
    "    CMBV = CMBV *0.9\r\n",
    "    while CMBV >1000:\r\n",
    "        print(CMBV)\r\n",
    "        CMBV = CMBV *0.9\r\n",
    "    return CMBV\r\n",
    "\r\n",
    "motorbike_depriciation(2000)\r\n",
    "\r\n"
   ],
   "outputs": [
    {
     "output_type": "stream",
     "name": "stdout",
     "text": [
      "1800.0\n",
      "1620.0\n",
      "1458.0\n",
      "1312.2\n",
      "1180.98\n",
      "1062.882\n"
     ]
    },
    {
     "output_type": "execute_result",
     "data": {
      "text/plain": [
       "956.5938000000001"
      ]
     },
     "metadata": {},
     "execution_count": 8
    }
   ],
   "metadata": {}
  },
  {
   "cell_type": "code",
   "execution_count": null,
   "source": [
    "#Write a program which will ask for two numbers from a user. \r\n",
    "# Then offer an option menu to the user giving them a choice of maths operators. \r\n",
    "# Once the user has selected which operator they wish to use, perform the calculation by using a procedure and passing parameters.\r\n",
    "\r\n",
    "\r\n",
    "Number1 = float(input(\"Tell me your first number?\"))\r\n",
    "op = input(\"Enter an operator(+,-,/,*,**):\")\r\n",
    "Number2 = float(input(\"Tell me your second number?\"))\r\n",
    "\r\n",
    "def caluclation(Number1, Number2):\r\n",
    "    if op ==  \"+\":\r\n",
    "        print(Number1 + Number2)\r\n",
    "    elif op == \"-\":\r\n",
    "        print(Number1 - Number2)\r\n",
    "    elif op == \"/\":\r\n",
    "        print(Number1 / Number2)\r\n",
    "    elif op == \"*\":\r\n",
    "        print(Number1 * Number2)\r\n",
    "    elif op == \"**\":\r\n",
    "        print(Number1 ** Number2)\r\n",
    "    else: \r\n",
    "        print (\"Try entering an operator\")\r\n",
    "\r\n",
    "caluclation(Number1, Number2)"
   ],
   "outputs": [],
   "metadata": {}
  }
 ],
 "metadata": {
  "orig_nbformat": 4,
  "language_info": {
   "name": "python",
   "version": "3.9.6",
   "mimetype": "text/x-python",
   "codemirror_mode": {
    "name": "ipython",
    "version": 3
   },
   "pygments_lexer": "ipython3",
   "nbconvert_exporter": "python",
   "file_extension": ".py"
  },
  "kernelspec": {
   "name": "python3",
   "display_name": "Python 3.9.6 64-bit"
  },
  "interpreter": {
   "hash": "799cbf69c42a84c723d8a903e9a6537830e16f79a0edb45cbb30e7d3e48922a6"
  }
 },
 "nbformat": 4,
 "nbformat_minor": 2
}