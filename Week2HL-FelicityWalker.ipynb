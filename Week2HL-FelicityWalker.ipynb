{
 "cells": [
  {
   "cell_type": "code",
   "execution_count": null,
   "source": [
    "#Create your own Flow Diagram, a subject of your own choice, Example: Fast food order and convert it into code.\r\n",
    "\r\n",
    "item1 = (\"1. Chicken Burger £2.99\")\r\n",
    "item2 = (\"2. Beef Burger £2.99\")\r\n",
    "item3 = (\"3. Cheese burger £4.99\")\r\n",
    "meal = (\"meal £1.50\")\r\n",
    "purchase_menu = []\r\n",
    "\r\n",
    "def menu():\r\n",
    "    print(\"Welcome to Burger Shop our menu is\" + item1,item2,item3)\r\n",
    "\r\n",
    "def burger_selection():\r\n",
    "    meal_selection = int(input(\"What burger would you like to select 1, 2, or 3:\"))\r\n",
    "    if (meal_selection == 1):\r\n",
    "        purchase_menu.append(item1)\r\n",
    "    elif (meal_selection == 2):\r\n",
    "        purchase_menu.append(item2)\r\n",
    "    elif (meal_selection == 3):\r\n",
    "        purchase_menu.append(item3)\r\n",
    "    else:\r\n",
    "        print (\"Try entering 1, 2 or 3\")\r\n",
    "\r\n",
    "def current_order():\r\n",
    "    print (\"Your current order is\", purchase_menu)\r\n",
    "\r\n",
    "def make_meal():\r\n",
    "    meal_input = input(\"Would you like to make that a meal? You can get a drink and fries for £1.50!(Yes/No):\")\r\n",
    "    if (meal_input == \"yes\"):\r\n",
    "        purchase_menu.append(meal)\r\n",
    "    elif (meal_input == \"no\"):\r\n",
    "        current_order()\r\n",
    "    else:\r\n",
    "        print (\"Try entering yes or no\")\r\n",
    "\r\n",
    "def add():\r\n",
    "    add_to_order = input(\"Would you like to add any more burgers? (Yes/No):\")\r\n",
    "    if (add_to_order == \"yes\"):\r\n",
    "        menu()\r\n",
    "        burger_selection()\r\n",
    "        make_meal()\r\n",
    "    elif (add_to_order == \"no\"):\r\n",
    "        print (\"Your final order is\", purchase_menu)\r\n",
    "    else:\r\n",
    "        print (\"Try entering yes or no\")\r\n",
    "\r\n",
    "menu()\r\n",
    "burger_selection()\r\n",
    "current_order()\r\n",
    "make_meal()\r\n",
    "current_order()\r\n",
    "add()"
   ],
   "outputs": [],
   "metadata": {}
  },
  {
   "cell_type": "code",
   "execution_count": 37,
   "source": [
    "#Task 2 As an extension to the motorbike task that costs £2000 and loses 10% of its value every year. \r\n",
    "# Set up a function that performs the calculation by passing in parameters. \r\n",
    "# Then using a loop, print the value of the bike every following year until it falls below £1000.\r\n",
    "\r\n",
    "CMBV = 2000\r\n",
    "\r\n",
    "def motorbike_depriciation():\r\n",
    "    new_value = (CMBV *0.9)\r\n",
    "    return new_value\r\n",
    "\r\n",
    "while new_value>1000 in motorbike_depriciation:\r\n",
    "    print (new_value)\r\n"
   ],
   "outputs": [
    {
     "output_type": "error",
     "ename": "TypeError",
     "evalue": "'>' not supported between instances of 'tuple' and 'int'",
     "traceback": [
      "\u001b[1;31m---------------------------------------------------------------------------\u001b[0m",
      "\u001b[1;31mTypeError\u001b[0m                                 Traceback (most recent call last)",
      "\u001b[1;32m~\\AppData\\Local\\Temp/ipykernel_9412/2212533581.py\u001b[0m in \u001b[0;36m<module>\u001b[1;34m\u001b[0m\n\u001b[0;32m      9\u001b[0m     \u001b[1;32mreturn\u001b[0m \u001b[0mnew_value\u001b[0m\u001b[1;33m\u001b[0m\u001b[1;33m\u001b[0m\u001b[0m\n\u001b[0;32m     10\u001b[0m \u001b[1;33m\u001b[0m\u001b[0m\n\u001b[1;32m---> 11\u001b[1;33m \u001b[1;32mwhile\u001b[0m \u001b[0mnew_value\u001b[0m\u001b[1;33m>\u001b[0m\u001b[1;36m1000\u001b[0m \u001b[1;32min\u001b[0m \u001b[0mmotorbike_depriciation\u001b[0m\u001b[1;33m:\u001b[0m\u001b[1;33m\u001b[0m\u001b[1;33m\u001b[0m\u001b[0m\n\u001b[0m\u001b[0;32m     12\u001b[0m     \u001b[0mprint\u001b[0m \u001b[1;33m(\u001b[0m\u001b[0mnew_value\u001b[0m\u001b[1;33m)\u001b[0m\u001b[1;33m\u001b[0m\u001b[1;33m\u001b[0m\u001b[0m\n",
      "\u001b[1;31mTypeError\u001b[0m: '>' not supported between instances of 'tuple' and 'int'"
     ]
    }
   ],
   "metadata": {}
  },
  {
   "cell_type": "code",
   "execution_count": 39,
   "source": [
    "#Write a program which will ask for two numbers from a user. \r\n",
    "# Then offer an option menu to the user giving them a choice of maths operators. \r\n",
    "# Once the user has selected which operator they wish to use, perform the calculation by using a procedure and passing parameters.\r\n",
    "\r\n",
    "\r\n",
    "Number1 = int(input(\"Tell me your first number?\"))\r\n",
    "op = input(\"Enter an operator(+,-,/,*,**):\")\r\n",
    "Number2 = int(input(\"Tell me your second number?\"))\r\n",
    "\r\n",
    "def calculation():\r\n",
    "    Number1 + op + Number2\r\n",
    "\r\n",
    "calculation()\r\n"
   ],
   "outputs": [
    {
     "output_type": "error",
     "ename": "ValueError",
     "evalue": "invalid literal for int() with base 10: '+'",
     "traceback": [
      "\u001b[1;31m---------------------------------------------------------------------------\u001b[0m",
      "\u001b[1;31mValueError\u001b[0m                                Traceback (most recent call last)",
      "\u001b[1;32m~\\AppData\\Local\\Temp/ipykernel_9412/1275759761.py\u001b[0m in \u001b[0;36m<module>\u001b[1;34m\u001b[0m\n\u001b[0;32m      5\u001b[0m \u001b[1;33m\u001b[0m\u001b[0m\n\u001b[0;32m      6\u001b[0m \u001b[0mNumber1\u001b[0m \u001b[1;33m=\u001b[0m \u001b[0mint\u001b[0m\u001b[1;33m(\u001b[0m\u001b[0minput\u001b[0m\u001b[1;33m(\u001b[0m\u001b[1;34m\"Tell me your first number?\"\u001b[0m\u001b[1;33m)\u001b[0m\u001b[1;33m)\u001b[0m\u001b[1;33m\u001b[0m\u001b[1;33m\u001b[0m\u001b[0m\n\u001b[1;32m----> 7\u001b[1;33m \u001b[0mop\u001b[0m \u001b[1;33m=\u001b[0m \u001b[0mint\u001b[0m\u001b[1;33m(\u001b[0m\u001b[0minput\u001b[0m\u001b[1;33m(\u001b[0m\u001b[1;34m\"Enter an operator(+,-,/,*,**):\"\u001b[0m\u001b[1;33m)\u001b[0m\u001b[1;33m)\u001b[0m\u001b[1;33m\u001b[0m\u001b[1;33m\u001b[0m\u001b[0m\n\u001b[0m\u001b[0;32m      8\u001b[0m \u001b[0mNumber2\u001b[0m \u001b[1;33m=\u001b[0m \u001b[0mint\u001b[0m\u001b[1;33m(\u001b[0m\u001b[0minput\u001b[0m\u001b[1;33m(\u001b[0m\u001b[1;34m\"Tell me your second number?\"\u001b[0m\u001b[1;33m)\u001b[0m\u001b[1;33m)\u001b[0m\u001b[1;33m\u001b[0m\u001b[1;33m\u001b[0m\u001b[0m\n\u001b[0;32m      9\u001b[0m \u001b[1;33m\u001b[0m\u001b[0m\n",
      "\u001b[1;31mValueError\u001b[0m: invalid literal for int() with base 10: '+'"
     ]
    }
   ],
   "metadata": {}
  }
 ],
 "metadata": {
  "orig_nbformat": 4,
  "language_info": {
   "name": "python",
   "version": "3.9.6",
   "mimetype": "text/x-python",
   "codemirror_mode": {
    "name": "ipython",
    "version": 3
   },
   "pygments_lexer": "ipython3",
   "nbconvert_exporter": "python",
   "file_extension": ".py"
  },
  "kernelspec": {
   "name": "python3",
   "display_name": "Python 3.9.6 64-bit"
  },
  "interpreter": {
   "hash": "799cbf69c42a84c723d8a903e9a6537830e16f79a0edb45cbb30e7d3e48922a6"
  }
 },
 "nbformat": 4,
 "nbformat_minor": 2
}